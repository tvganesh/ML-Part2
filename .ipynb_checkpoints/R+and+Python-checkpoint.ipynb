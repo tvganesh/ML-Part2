{
 "cells": [
  {
   "cell_type": "code",
   "execution_count": 2,
   "metadata": {
    "collapsed": true
   },
   "outputs": [],
   "source": [
    "import numpy as np\n",
    "import pandas as pd\n",
    "import os\n",
    "import matplotlib.pyplot as plt\n",
    "from sklearn.model_selection import train_test_split\n",
    "os.chdir(\"C:\\\\software\\\\machine-learning\\\\RandPython\")"
   ]
  },
  {
   "cell_type": "code",
   "execution_count": 4,
   "metadata": {
    "collapsed": true
   },
   "outputs": [],
   "source": [
    "df = pd.read_csv(\"Boston.csv\",encoding = \"ISO-8859-1\")"
   ]
  },
  {
   "cell_type": "code",
   "execution_count": 6,
   "metadata": {
    "collapsed": true
   },
   "outputs": [],
   "source": [
    "X=df['lstat']\n",
    "y=df['medv']"
   ]
  },
  {
   "cell_type": "code",
   "execution_count": 24,
   "metadata": {},
   "outputs": [
    {
     "name": "stderr",
     "output_type": "stream",
     "text": [
      "C:\\Users\\IBM_ADMIN\\Anaconda3\\lib\\site-packages\\ipykernel_launcher.py:2: FutureWarning: reshape is deprecated and will raise in a subsequent release. Please use .values.reshape(...) instead\n",
      "  \n",
      "C:\\Users\\IBM_ADMIN\\Anaconda3\\lib\\site-packages\\ipykernel_launcher.py:3: FutureWarning: reshape is deprecated and will raise in a subsequent release. Please use .values.reshape(...) instead\n",
      "  This is separate from the ipykernel package so we can avoid doing imports until\n"
     ]
    }
   ],
   "source": [
    "X_train, X_test, y_train, y_test = train_test_split(X, y,random_state = 0)\n",
    "X_train=X_train.reshape(-1,1)\n",
    "X_test=X_test.reshape(-1,1)"
   ]
  },
  {
   "cell_type": "code",
   "execution_count": 26,
   "metadata": {},
   "outputs": [
    {
     "name": "stdout",
     "output_type": "stream",
     "text": [
      "linear model coeff (w): [-0.97063097]\n",
      "linear model intercept (b): 34.787\n",
      "R-squared score (training): 0.571\n",
      "R-squared score (test): 0.458\n"
     ]
    }
   ],
   "source": [
    "from sklearn.linear_model import LinearRegression\n",
    "\n",
    "linreg = LinearRegression().fit(X_train, y_train)\n",
    "print('linear model coeff (w): {}'\n",
    "     .format(linreg.coef_))\n",
    "print('linear model intercept (b): {:.3f}'\n",
    "     .format(linreg.intercept_))\n",
    "print('R-squared score (training): {:.3f}'\n",
    "     .format(linreg.score(X_train, y_train)))\n",
    "print('R-squared score (test): {:.3f}'\n",
    "     .format(linreg.score(X_test, y_test)))\n"
   ]
  },
  {
   "cell_type": "code",
   "execution_count": 40,
   "metadata": {},
   "outputs": [
    {
     "data": {
      "image/png": "[encoded data removed]",
      "text/plain": [
       "<matplotlib.figure.Figure at 0xc320fd0>"
      ]
     },
     "metadata": {},
     "output_type": "display_data"
    }
   ],
   "source": [
    "import matplotlib.pyplot as plt\n",
    "plt.scatter(X_train,y_train)\n",
    "plt.plot()\n",
    "# Create a range of points. Compute yhat=coeff1*x + intercept and plot\n",
    "x=np.linspace(0,40,20)\n",
    "plt.plot(x, linreg.coef_ * x + linreg.intercept_, color='red')\n",
    "plt.show()"
   ]
  },
  {
   "cell_type": "code",
   "execution_count": 42,
   "metadata": {},
   "outputs": [
    {
     "data": {
      "text/plain": [
       "array([[ 0,  1,  2],\n",
       "       [ 3,  4,  5],\n",
       "       [ 6,  7,  8],\n",
       "       [ 9, 10, 11]])"
      ]
     },
     "execution_count": 42,
     "metadata": {},
     "output_type": "execute_result"
    }
   ],
   "source": [
    "a=np.arange(12).reshape(4,3)\n",
    "a"
   ]
  },
  {
   "cell_type": "code",
   "execution_count": 49,
   "metadata": {},
   "outputs": [
    {
     "data": {
      "text/plain": [
       "array([[ 0,  1,  2,  3,  4,  5],\n",
       "       [ 6,  7,  8,  9, 10, 11]])"
      ]
     },
     "execution_count": 49,
     "metadata": {},
     "output_type": "execute_result"
    }
   ],
   "source": [
    "b=a.reshape(-1,1)\n",
    "a.reshape(2,-1)"
   ]
  },
  {
   "cell_type": "code",
   "execution_count": 81,
   "metadata": {},
   "outputs": [
    {
     "data": {
      "text/plain": [
       "(392, 7)"
      ]
     },
     "execution_count": 81,
     "metadata": {},
     "output_type": "execute_result"
    }
   ],
   "source": [
    "autoDF =pd.read_csv(\"auto_mpg.csv\",encoding=\"ISO-8859-1\")\n",
    "autoDF.shape\n",
    "autoDF.columns\n",
    "autoDF1=autoDF[['mpg','cylinder','displacement','horsepower','weight','acceleration','year']]\n",
    "autoDF2 = autoDF1.apply(pd.to_numeric, errors='coerce')\n",
    "autoDF3=autoDF2.dropna()\n",
    "autoDF3.shape"
   ]
  },
  {
   "cell_type": "code",
   "execution_count": 82,
   "metadata": {
    "collapsed": true
   },
   "outputs": [],
   "source": [
    "X=autoDF3[['cylinder','displacement','horsepower','weight','acceleration','year']]\n",
    "y=autoDF3['mpg']"
   ]
  },
  {
   "cell_type": "code",
   "execution_count": 72,
   "metadata": {
    "collapsed": true
   },
   "outputs": [],
   "source": [
    "X_train, X_test, y_train, y_test = train_test_split(X, y,random_state = 0)"
   ]
  },
  {
   "cell_type": "code",
   "execution_count": 73,
   "metadata": {},
   "outputs": [
    {
     "name": "stdout",
     "output_type": "stream",
     "text": [
      "linear model coeff (w): [-0.20058761  0.00128133  0.00674623 -0.00665921  0.13115667  0.71659333]\n",
      "linear model intercept (b): -13.174\n",
      "R-squared score (training): 0.811\n",
      "R-squared score (test): 0.799\n"
     ]
    }
   ],
   "source": [
    "from sklearn.linear_model import LinearRegression\n",
    "linreg = LinearRegression().fit(X_train, y_train)\n",
    "print('linear model coeff (w): {}'\n",
    "     .format(linreg.coef_))\n",
    "print('linear model intercept (b): {:.3f}'\n",
    "     .format(linreg.intercept_))\n",
    "print('R-squared score (training): {:.3f}'\n",
    "     .format(linreg.score(X_train, y_train)))\n",
    "print('R-squared score (test): {:.3f}'\n",
    "     .format(linreg.score(X_test, y_test)))\n"
   ]
  },
  {
   "cell_type": "code",
   "execution_count": 74,
   "metadata": {
    "collapsed": true
   },
   "outputs": [],
   "source": [
    "from sklearn.preprocessing import PolynomialFeatures\n",
    "poly = PolynomialFeatures(degree=2)\n",
    "X_poly = poly.fit_transform(X)"
   ]
  },
  {
   "cell_type": "code",
   "execution_count": 75,
   "metadata": {},
   "outputs": [
    {
     "name": "stdout",
     "output_type": "stream",
     "text": [
      "(poly deg 2) linear model coeff (w):\n",
      "[ -4.04620515e+07   1.38472196e+00  -2.42206228e-01  -2.22522944e-01\n",
      "   3.99735275e-02  -7.98478626e+00  -7.26410089e+00  -3.47556191e-01\n",
      "   5.36352244e-03   3.39699222e-02  -7.97843092e-04   3.78400447e-01\n",
      "  -6.89644248e-02  -1.79668251e-04  -1.10707039e-03   6.13856808e-05\n",
      "  -1.81711387e-02   6.32427446e-03   1.54950597e-03  -1.20146012e-04\n",
      "   3.75963532e-03   2.63728364e-03   2.33476284e-06   4.75789065e-04\n",
      "  -8.21700443e-04   4.86781484e-02   7.71376920e-02   5.36435545e-02]\n",
      "(poly deg 2) linear model intercept (b): 40462365.740\n",
      "(poly deg 2) R-squared score (training): 0.861\n",
      "(poly deg 2) R-squared score (test): 0.847\n",
      "\n"
     ]
    }
   ],
   "source": [
    "X_train, X_test, y_train, y_test = train_test_split(X_poly, y,random_state = 0)\n",
    "linreg = LinearRegression().fit(X_train, y_train)\n",
    "\n",
    "print('(poly deg 2) linear model coeff (w):\\n{}'\n",
    "     .format(linreg.coef_))\n",
    "print('(poly deg 2) linear model intercept (b): {:.3f}'\n",
    "     .format(linreg.intercept_))\n",
    "print('(poly deg 2) R-squared score (training): {:.3f}'\n",
    "     .format(linreg.score(X_train, y_train)))\n",
    "print('(poly deg 2) R-squared score (test): {:.3f}\\n'\n",
    "     .format(linreg.score(X_test, y_test)))"
   ]
  },
  {
   "cell_type": "code",
   "execution_count": 76,
   "metadata": {
    "collapsed": true
   },
   "outputs": [],
   "source": [
    "from sklearn.preprocessing import PolynomialFeatures\n",
    "poly = PolynomialFeatures(degree=3)\n",
    "X_poly = poly.fit_transform(X)"
   ]
  },
  {
   "cell_type": "code",
   "execution_count": 77,
   "metadata": {},
   "outputs": [
    {
     "name": "stdout",
     "output_type": "stream",
     "text": [
      "(poly deg 2) R-squared score (training): 0.933\n",
      "(poly deg 2) R-squared score (test): 0.710\n",
      "\n"
     ]
    }
   ],
   "source": [
    "X_train, X_test, y_train, y_test = train_test_split(X_poly, y,random_state = 0)\n",
    "linreg = LinearRegression().fit(X_train, y_train)\n",
    "\n",
    "#print('(poly deg 2) linear model coeff (w):\\n{}'\n",
    "#     .format(linreg.coef_))\n",
    "#print('(poly deg 2) linear model intercept (b): {:.3f}'\n",
    "#     .format(linreg.intercept_))\n",
    "print('(poly deg 2) R-squared score (training): {:.3f}'\n",
    "     .format(linreg.score(X_train, y_train)))\n",
    "print('(poly deg 2) R-squared score (test): {:.3f}\\n'\n",
    "     .format(linreg.score(X_test, y_test)))"
   ]
  },
  {
   "cell_type": "code",
   "execution_count": 83,
   "metadata": {},
   "outputs": [
    {
     "name": "stdout",
     "output_type": "stream",
     "text": [
      "[ 32.6    23.3    13.5    33.725  32.325  19.625  34.5    24.075  20.45\n",
      "  29.65   30.325  12.75   26.175  12.     13.375  30.675  24.3    14.875\n",
      "  28.05   27.6    18.4    18.825  24.225  22.6    32.325  15.375  24.65\n",
      "  26.3    18.8    15.725  24.3    26.4    26.825  33.775  20.275  26.25\n",
      "  36.05   13.75   15.375  14.625  17.75   32.575  27.5    14.125  30.225\n",
      "  13.625  27.075  13.     15.8    22.85   30.775  15.8    13.25   24.225\n",
      "  29.875  21.175  19.825  18.125  33.65   25.975  23.925  32.675  33.525\n",
      "  14.625  29.875  15.5    15.375  25.6    24.85   38.     33.65   28.75\n",
      "  18.5    14.125  24.025  14.125  33.     16.5    33.725  30.225  18.475\n",
      "  31.625  20.575  28.225  14.125  19.     26.15   24.75   33.8    25.75\n",
      "  27.05   14.125  26.     18.925  19.575  26.825  36.05   26.6  ]\n",
      "R-squared test score: 0.707\n"
     ]
    }
   ],
   "source": [
    "from sklearn.neighbors import KNeighborsRegressor\n",
    "\n",
    "X_train, X_test, y_train, y_test = train_test_split(X, y, random_state = 0)\n",
    "\n",
    "knnreg = KNeighborsRegressor(n_neighbors = 4).fit(X_train, y_train)\n",
    "\n",
    "print(knnreg.predict(X_test))\n",
    "print('R-squared test score: {:.3f}'\n",
    "     .format(knnreg.score(X_test, y_test)))"
   ]
  },
  {
   "cell_type": "code",
   "execution_count": 90,
   "metadata": {},
   "outputs": [
    {
     "name": "stdout",
     "output_type": "stream",
     "text": [
      "R-squared test score: 0.527\n",
      "R-squared test score: 0.678\n",
      "R-squared test score: 0.707\n",
      "R-squared test score: 0.684\n",
      "R-squared test score: 0.683\n",
      "R-squared test score: 0.670\n"
     ]
    },
    {
     "data": {
      "image/png": "[encoded data removed]",
      "text/plain": [
       "<matplotlib.figure.Figure at 0x62526a0>"
      ]
     },
     "metadata": {},
     "output_type": "display_data"
    }
   ],
   "source": [
    "X_train, X_test, y_train, y_test = train_test_split(X, y, random_state = 0)\n",
    "rsquared=[]\n",
    "neighbors=[1,2,4,8,10,14]\n",
    "for i in neighbors:\n",
    "        knnreg = KNeighborsRegressor(n_neighbors = i).fit(X_train, y_train)\n",
    "        rsquared.append(knnreg.score(X_test, y_test))\n",
    "        print('R-squared test score: {:.3f}'\n",
    "        .format(knnreg.score(X_test, y_test)))\n",
    "        \n",
    "fig=plt.plot(neighbors,rsquared)\n",
    "fig=plt.title(\"KNN regression - R squared vs Number of neighbors(Unnormalized)\")\n",
    "fig=plt.xlabel(\"Neighbors\")\n",
    "fig=plt.ylabel(\"R squared\")\n",
    "plt.show()"
   ]
  },
  {
   "cell_type": "code",
   "execution_count": 50,
   "metadata": {
    "collapsed": true
   },
   "outputs": [],
   "source": [
    "from sklearn.preprocessing import MinMaxScaler\n",
    "scaler = MinMaxScaler()\n",
    "X_train_scaled = scaler.fit_transform(X_train)\n",
    "# we must apply the scaling to the test set that we computed for the training set\n",
    "X_test_scaled = scaler.transform(X_test)"
   ]
  },
  {
   "cell_type": "code",
   "execution_count": 54,
   "metadata": {},
   "outputs": [
    {
     "name": "stdout",
     "output_type": "stream",
     "text": [
      "R-squared test score: 0.830\n"
     ]
    }
   ],
   "source": [
    "knnreg = KNeighborsRegressor(n_neighbors = 4).fit(X_train_scaled, y_train)\n",
    "\n",
    "#print(knnreg.predict(X))\n",
    "print('R-squared test score: {:.3f}'\n",
    "     .format(knnreg.score(X_test_scaled, y_test)))"
   ]
  },
  {
   "cell_type": "code",
   "execution_count": 56,
   "metadata": {},
   "outputs": [
    {
     "data": {
      "text/plain": [
       "array([[ 0.2       ,  0.02067183,  0.0326087 ,  0.01020697,  0.50595238,\n",
       "         0.33333333],\n",
       "       [ 0.2       ,  0.04392765,  0.13043478,  0.12957187,  0.63095238,\n",
       "         0.66666667],\n",
       "       [ 1.        ,  0.93281654,  0.82608696,  0.94669691,  0.20833333,\n",
       "         0.25      ],\n",
       "       ..., \n",
       "       [ 0.2       ,  0.12403101,  0.1576087 ,  0.15452226,  0.44642857,\n",
       "         0.25      ],\n",
       "       [ 0.6       ,  0.47028424,  0.22826087,  0.43266232,  0.38690476,\n",
       "         0.08333333],\n",
       "       [ 0.6       ,  0.26614987,  0.27717391,  0.38871562,  0.38690476,\n",
       "         0.41666667]])"
      ]
     },
     "execution_count": 56,
     "metadata": {},
     "output_type": "execute_result"
    }
   ],
   "source": [
    "X_train_scaled"
   ]
  },
  {
   "cell_type": "code",
   "execution_count": 78,
   "metadata": {},
   "outputs": [
    {
     "data": {
      "image/png": "[encoded data removed]",
      "text/plain": [
       "<matplotlib.figure.Figure at 0xdb32160>"
      ]
     },
     "metadata": {},
     "output_type": "display_data"
    }
   ],
   "source": [
    "\n",
    "#x=np.arange(10)\n",
    "#y=3*np.arange(10)\n",
    "x=[5,6,2,1]\n",
    "y=[1,2,3,4]\n",
    "plt.plot(x,y)\n",
    "plt.title(\"Title\")\n",
    "plt.xlabel(\"x\")\n",
    "plt.ylabel(\"yy\")\n",
    "plt.show()"
   ]
  },
  {
   "cell_type": "code",
   "execution_count": 93,
   "metadata": {},
   "outputs": [
    {
     "name": "stdout",
     "output_type": "stream",
     "text": [
      "R-squared test score: 0.703\n",
      "R-squared test score: 0.810\n",
      "R-squared test score: 0.830\n",
      "R-squared test score: 0.838\n",
      "R-squared test score: 0.834\n",
      "R-squared test score: 0.828\n",
      "R-squared test score: 0.827\n",
      "R-squared test score: 0.826\n",
      "R-squared test score: 0.816\n",
      "R-squared test score: 0.815\n",
      "R-squared test score: 0.809\n"
     ]
    },
    {
     "data": {
      "image/png": "[encoded data removed]",
      "text/plain": [
       "<matplotlib.figure.Figure at 0xdac6cc0>"
      ]
     },
     "metadata": {},
     "output_type": "display_data"
    },
    {
     "data": {
      "text/plain": [
       "[0.70288183558375805,\n",
       " 0.80962024371320718,\n",
       " 0.82993196025756399,\n",
       " 0.83751069869465411,\n",
       " 0.83382730838805907,\n",
       " 0.82804146013133595,\n",
       " 0.82679889855758082,\n",
       " 0.82588227355075294,\n",
       " 0.81565629368186365,\n",
       " 0.81536996097782677,\n",
       " 0.80864489253021787]"
      ]
     },
     "execution_count": 93,
     "metadata": {},
     "output_type": "execute_result"
    }
   ],
   "source": [
    "import matplotlib.pyplot as plt\n",
    "from sklearn.model_selection import train_test_split\n",
    "from sklearn.linear_model import LinearRegression\n",
    "from sklearn.preprocessing import PolynomialFeatures\n",
    "from sklearn.neighbors import KNeighborsRegressor\n",
    "from sklearn.preprocessing import MinMaxScaler\n",
    "autoDF =pd.read_csv(\"auto_mpg.csv\",encoding=\"ISO-8859-1\")\n",
    "autoDF.shape\n",
    "autoDF.columns\n",
    "autoDF1=autoDF[['mpg','cylinder','displacement','horsepower','weight','acceleration','year']]\n",
    "autoDF2 = autoDF1.apply(pd.to_numeric, errors='coerce')\n",
    "autoDF3=autoDF2.dropna()\n",
    "autoDF3.shape\n",
    "X=autoDF3[['cylinder','displacement','horsepower','weight','acceleration','year']]\n",
    "y=autoDF3['mpg']\n",
    "\n",
    "\n",
    "X_train, X_test, y_train, y_test = train_test_split(X, y, random_state = 0)\n",
    "scaler = MinMaxScaler()\n",
    "X_train_scaled = scaler.fit_transform(X_train)\n",
    "# we must apply the scaling to the test set that we computed for the training set\n",
    "X_test_scaled = scaler.transform(X_test)\n",
    "\n",
    "rsquared=[]\n",
    "neighbors=[1,2,4,6,8,10,12,15,20,25,30]\n",
    "for i in neighbors:\n",
    "    knnreg = KNeighborsRegressor(n_neighbors = i).fit(X_train_scaled, y_train)\n",
    "    rsquared.append(knnreg.score(X_test_scaled, y_test))\n",
    "    print('R-squared test score: {:.3f}'\n",
    "        .format(knnreg.score(X_test_scaled, y_test)))\n",
    "\n",
    "fig=plt.plot(neighbors,rsquared)\n",
    "fig=plt.title(\"KNN regression - R squared vs Number of neighbors(Unnormalized)\")\n",
    "fig=plt.xlabel(\"Neighbors\")\n",
    "fig=plt.ylabel(\"R squared\")\n",
    "plt.show()\n",
    "\n",
    "rsquared"
   ]
  },
  {
   "cell_type": "code",
   "execution_count": 1,
   "metadata": {},
   "outputs": [
    {
     "ename": "NameError",
     "evalue": "name 'y' is not defined",
     "output_type": "error",
     "traceback": [
      "\u001b[1;31m---------------------------------------------------------------------------\u001b[0m",
      "\u001b[1;31mNameError\u001b[0m                                 Traceback (most recent call last)",
      "\u001b[1;32m<ipython-input-1-70295be5ee6e>\u001b[0m in \u001b[0;36m<module>\u001b[1;34m()\u001b[0m\n\u001b[1;32m----> 1\u001b[1;33m \u001b[0my\u001b[0m\u001b[1;33m[\u001b[0m\u001b[1;36m374\u001b[0m\u001b[1;33m]\u001b[0m\u001b[1;33m\u001b[0m\u001b[0m\n\u001b[0m",
      "\u001b[1;31mNameError\u001b[0m: name 'y' is not defined"
     ]
    }
   ],
   "source": [
    "y[3"
   ]
  }
 ],
 "metadata": {
  "kernelspec": {
   "display_name": "Python 2",
   "language": "python",
   "name": "python2"
  },
  "language_info": {
   "codemirror_mode": {
    "name": "ipython",
    "version": 2
   },
   "file_extension": ".py",
   "mimetype": "text/x-python",
   "name": "python",
   "nbconvert_exporter": "python",
   "pygments_lexer": "ipython2",
   "version": "2.7.13"
  }
 },
 "nbformat": 4,
 "nbformat_minor": 2
}
