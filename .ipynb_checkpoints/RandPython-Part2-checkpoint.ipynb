{
 "cells": [
  {
   "cell_type": "code",
   "execution_count": 34,
   "metadata": {
    "collapsed": true
   },
   "outputs": [],
   "source": [
    "import numpy as np\n",
    "import pandas as pd\n",
    "import os\n",
    "import matplotlib.pyplot as plt\n",
    "from sklearn.model_selection import train_test_split\n",
    "os.chdir(\"C:\\\\Users\\\\Ganesh\\\\RandPython\")\n",
    "from sklearn.datasets import make_classification, make_blobs\n",
    "\n",
    "from sklearn.metrics import confusion_matrix\n",
    "from matplotlib.colors import ListedColormap\n",
    "from sklearn.datasets import load_breast_cancer\n"
   ]
  },
  {
   "cell_type": "code",
   "execution_count": 80,
   "metadata": {
    "collapsed": true
   },
   "outputs": [],
   "source": [
    "# Setting return-X_y=True returns the features and the target variable\n",
    "(X_cancer, y_cancer) = load_breast_cancer(return_X_y = True)"
   ]
  },
  {
   "cell_type": "code",
   "execution_count": 19,
   "metadata": {
    "collapsed": true
   },
   "outputs": [],
   "source": [
    "from sklearn.linear_model import LogisticRegression\n",
    "from adspy_shared_utilities import (\n",
    "plot_class_regions_for_classifier_subplot)\n",
    "X_train, X_test, y_train, y_test = train_test_split(X_cancer, y_cancer,\n",
    "                                                   random_state = 0)"
   ]
  },
  {
   "cell_type": "code",
   "execution_count": 20,
   "metadata": {
    "collapsed": true
   },
   "outputs": [],
   "source": [
    "clf = LogisticRegression().fit(X_train, y_train)"
   ]
  },
  {
   "cell_type": "code",
   "execution_count": 31,
   "metadata": {},
   "outputs": [
    {
     "name": "stdout",
     "output_type": "stream",
     "text": [
      "Accuracy of Logistic regression classifier on training set: 0.96\n",
      "Accuracy of Logistic regression classifier on test set: 0.96\n"
     ]
    }
   ],
   "source": [
    "fig, subaxes = plt.subplots(1, 1, figsize=(7, 5))\n",
    "clf = LogisticRegression().fit(X_train, y_train)\n",
    "\n",
    "\n",
    "print('Accuracy of Logistic regression classifier on training set: {:.2f}'\n",
    "     .format(clf.score(X_train, y_train)))\n",
    "print('Accuracy of Logistic regression classifier on test set: {:.2f}'\n",
    "     .format(clf.score(X_test, y_test)))"
   ]
  },
  {
   "cell_type": "code",
   "execution_count": 35,
   "metadata": {
    "collapsed": true
   },
   "outputs": [],
   "source": [
    "y_predicted=clf.predict(X_test)\n",
    "confusion = confusion_matrix(y_test, y_predicted)"
   ]
  },
  {
   "cell_type": "code",
   "execution_count": 36,
   "metadata": {},
   "outputs": [
    {
     "data": {
      "text/plain": [
       "array([[52,  1],\n",
       "       [ 5, 85]])"
      ]
     },
     "execution_count": 36,
     "metadata": {},
     "output_type": "execute_result"
    }
   ],
   "source": [
    "confusion"
   ]
  },
  {
   "cell_type": "code",
   "execution_count": 37,
   "metadata": {},
   "outputs": [
    {
     "name": "stdout",
     "output_type": "stream",
     "text": [
      "Accuracy: 0.96\n",
      "Precision: 0.99\n",
      "Recall: 0.94\n",
      "F1: 0.97\n"
     ]
    }
   ],
   "source": [
    "from sklearn.metrics import accuracy_score, precision_score, recall_score, f1_score\n",
    "# Accuracy = TP + TN / (TP + TN + FP + FN) (All positives/(All))\n",
    "# Precision = TP / (TP + FP) Ratio of True of positives among all positives\n",
    "# Recall = TP / (TP + FN)  Also known as sensitivity, or True Positive Rate  (True positive)/()\n",
    "# F1 = 2 * Precision * Recall / (Precision + Recall) \n",
    "print('Accuracy: {:.2f}'.format(accuracy_score(y_test, y_predicted)))\n",
    "print('Precision: {:.2f}'.format(precision_score(y_test, y_predicted)))\n",
    "print('Recall: {:.2f}'.format(recall_score(y_test, y_predicted)))\n",
    "print('F1: {:.2f}'.format(f1_score(y_test, y_predicted)))"
   ]
  },
  {
   "cell_type": "code",
   "execution_count": 83,
   "metadata": {
    "collapsed": true
   },
   "outputs": [],
   "source": [
    "y_cancer=y_cancer.reshape(569L,1L)\n",
    "cancer=np.append(X_cancer,y_cancer,axis=1)\n",
    "np.savetxt(\"cancer.csv\", cancer, delimiter=\",\")"
   ]
  },
  {
   "cell_type": "code",
   "execution_count": 84,
   "metadata": {},
   "outputs": [
    {
     "data": {
      "text/plain": [
       "(569L, 31L)"
      ]
     },
     "execution_count": 84,
     "metadata": {},
     "output_type": "execute_result"
    }
   ],
   "source": [
    "cancer.shape"
   ]
  },
  {
   "cell_type": "code",
   "execution_count": 95,
   "metadata": {
    "collapsed": true
   },
   "outputs": [],
   "source": [
    "df =pd.read_csv(\"adult1.csv\",encoding=\"ISO-8859-1\",na_values=[\"\",\" \",\" ?\"])"
   ]
  },
  {
   "cell_type": "code",
   "execution_count": 125,
   "metadata": {},
   "outputs": [
    {
     "name": "stdout",
     "output_type": "stream",
     "text": [
      "(30161, 16)\n"
     ]
    }
   ],
   "source": [
    "df1=df.dropna()\n",
    "print(df1.shape)\n",
    "adult = df1[['age','occupation','education','educationNum','capitalGain','capital-loss', \n",
    "             'hours-per-week','native-country','salary']]\n",
    "\n",
    "X=adult[['age','occupation','education','educationNum','capitalGain','capital-loss', \n",
    "             'hours-per-week','native-country']]\n",
    "X_adult=pd.get_dummies(X,columns=['occupation','education','native-country'])\n",
    "y=adult['salary']\n",
    "\n",
    "X_adult_train, X_adult_test, y_train, y_test = train_test_split(X_adult, y,\n",
    "                                                   random_state = 0)"
   ]
  },
  {
   "cell_type": "code",
   "execution_count": 130,
   "metadata": {},
   "outputs": [
    {
     "data": {
      "text/plain": [
       "numpy.int64"
      ]
     },
     "execution_count": 130,
     "metadata": {},
     "output_type": "execute_result"
    }
   ],
   "source": [
    "type(y_train[0])"
   ]
  },
  {
   "cell_type": "code",
   "execution_count": 137,
   "metadata": {},
   "outputs": [
    {
     "name": "stdout",
     "output_type": "stream",
     "text": [
      "Accuracy of Logistic regression classifier on training set: 0.82\n",
      "Accuracy of Logistic regression classifier on test set: 0.81\n"
     ]
    }
   ],
   "source": [
    "clf = LogisticRegression().fit(X_adult_train, y_train)\n",
    "\n",
    "\n",
    "print('Accuracy of Logistic regression classifier on training set: {:.2f}'\n",
    "     .format(clf.score(X_adult_train, y_train)))\n",
    "print('Accuracy of Logistic regression classifier on test set: {:.2f}'\n",
    "     .format(clf.score(X_adult_test, y_test)))\n"
   ]
  },
  {
   "cell_type": "code",
   "execution_count": 138,
   "metadata": {},
   "outputs": [
    {
     "name": "stdout",
     "output_type": "stream",
     "text": [
      "Accuracy: 0.81\n",
      "Precision: 0.68\n",
      "Recall: 0.41\n",
      "F1: 0.51\n"
     ]
    }
   ],
   "source": [
    "y_predicted=clf.predict(X_adult_test)\n",
    "confusion = confusion_matrix(y_test, y_predicted)\n",
    "print('Accuracy: {:.2f}'.format(accuracy_score(y_test, y_predicted)))\n",
    "print('Precision: {:.2f}'.format(precision_score(y_test, y_predicted)))\n",
    "print('Recall: {:.2f}'.format(recall_score(y_test, y_predicted)))\n",
    "print('F1: {:.2f}'.format(f1_score(y_test, y_predicted)))"
   ]
  },
  {
   "cell_type": "code",
   "execution_count": 139,
   "metadata": {
    "collapsed": true
   },
   "outputs": [],
   "source": [
    "from sklearn.neighbors import KNeighborsClassifier\n",
    "from sklearn.preprocessing import MinMaxScaler\n",
    "scaler = MinMaxScaler()\n",
    "X_train_scaled = scaler.fit_transform(X_adult_train)\n",
    "# Apply scaling to test set also\n",
    "X_test_scaled = scaler.transform(X_adult_test)"
   ]
  },
  {
   "cell_type": "code",
   "execution_count": 141,
   "metadata": {},
   "outputs": [
    {
     "name": "stdout",
     "output_type": "stream",
     "text": [
      "Accuracy of K-NN classifier on training set: 0.85\n",
      "Accuracy of K-NN classifier on test set: 0.79\n"
     ]
    }
   ],
   "source": [
    "knn = KNeighborsClassifier(n_neighbors = 5)\n",
    "knn.fit(X_train_scaled, y_train)\n",
    "print('Accuracy of K-NN classifier on training set: {:.2f}'\n",
    "     .format(knn.score(X_train_scaled, y_train)))\n",
    "print('Accuracy of K-NN classifier on test set: {:.2f}'\n",
    "     .format(knn.score(X_test_scaled, y_test)))\n"
   ]
  },
  {
   "cell_type": "code",
   "execution_count": 142,
   "metadata": {},
   "outputs": [
    {
     "name": "stdout",
     "output_type": "stream",
     "text": [
      "Accuracy test score: 0.749\n",
      "Accuracy test score: 0.779\n",
      "Accuracy test score: 0.793\n",
      "Accuracy test score: 0.804\n",
      "Accuracy test score: 0.803\n"
     ]
    }
   ],
   "source": [
    "accuracy=[]\n",
    "neighbors=[1,3,5,10,15]\n",
    "for i in neighbors:\n",
    "    knn = KNeighborsClassifier(n_neighbors = i)\n",
    "    knn.fit(X_train_scaled, y_train)\n",
    "    accuracy.append(knn.score(X_test_scaled, y_test))\n",
    "    print('Accuracy test score: {:.3f}'\n",
    "        .format(knn.score(X_test_scaled, y_test)))"
   ]
  },
  {
   "cell_type": "code",
   "execution_count": 145,
   "metadata": {},
   "outputs": [
    {
     "data": {
      "image/png": "[encoded data removed]",
      "text/plain": [
       "<matplotlib.figure.Figure at 0xda97f98>"
      ]
     },
     "metadata": {},
     "output_type": "display_data"
    }
   ],
   "source": [
    "fig=plt.plot(neighbors,accuracy)\n",
    "fig=plt.title(\"KNN regression - Accuracy vs Number of neighbors\")\n",
    "fig=plt.xlabel(\"Neighbors\")\n",
    "fig=plt.ylabel(\"Accuracy\")\n",
    "plt.show()"
   ]
  },
  {
   "cell_type": "code",
   "execution_count": 168,
   "metadata": {},
   "outputs": [
    {
     "name": "stderr",
     "output_type": "stream",
     "text": [
      "C:\\Users\\Ganesh\\Anaconda2\\lib\\site-packages\\ipykernel_launcher.py:5: FutureWarning: reshape is deprecated and will raise in a subsequent release. Please use .values.reshape(...) instead\n",
      "  \"\"\"\n",
      "C:\\Users\\Ganesh\\Anaconda2\\lib\\site-packages\\ipykernel_launcher.py:6: FutureWarning: reshape is deprecated and will raise in a subsequent release. Please use .values.reshape(...) instead\n",
      "  \n"
     ]
    }
   ],
   "source": [
    "os.chdir(\"C:\\\\software\\\\machine-learning\\\\RandPython\")\n",
    "df = pd.read_csv(\"Boston.csv\",encoding = \"ISO-8859-1\")\n",
    "X=df['lstat']\n",
    "y=df['medv']\n",
    "X1=X.reshape(-1,1)\n",
    "y1=y.reshape(-1,1)\n",
    "from sklearn.linear_model import LinearRegression\n",
    "\n",
    "linreg = LinearRegression().fit(X1, y1)"
   ]
  },
  {
   "cell_type": "code",
   "execution_count": 165,
   "metadata": {},
   "outputs": [
    {
     "data": {
      "text/plain": [
       "(506L, 1L)"
      ]
     },
     "execution_count": 165,
     "metadata": {},
     "output_type": "execute_result"
    }
   ],
   "source": [
    "X1.shape\n",
    "y1.shape"
   ]
  },
  {
   "cell_type": "code",
   "execution_count": 172,
   "metadata": {},
   "outputs": [
    {
     "name": "stdout",
     "output_type": "stream",
     "text": [
      "('Cross-validation scores (3-fold):', array([ 0.4282059 ,  0.10625862,  0.42011508]))\n",
      "Mean cross-validation score (3-fold): 0.318\n"
     ]
    }
   ],
   "source": [
    "##clf = KNeighborsClassifier(n_neighbors = 5)\n",
    "#X = X_fruits_2d.as_matrix()\n",
    "#y = y_fruits_2d.as_matrix()\n",
    "\n",
    "from sklearn.model_selection import cross_val_score\n",
    "cv_scores = cross_val_score(linreg, X1, y1)\n",
    "\n",
    "print('Cross-validation scores (3-fold):', cv_scores)\n",
    "print('Mean cross-validation score (3-fold): {:.3f}'\n",
    "     .format(np.mean(cv_scores)))"
   ]
  },
  {
   "cell_type": "code",
   "execution_count": null,
   "metadata": {
    "collapsed": true
   },
   "outputs": [],
   "source": [
    "X=df[['crim','zn', 'nox','rm',\n",
    "        'dis','rad','tax','ptratio',\n",
    "         'lstat' ]]"
   ]
  },
  {
   "cell_type": "code",
   "execution_count": 191,
   "metadata": {},
   "outputs": [
    {
     "name": "stdout",
     "output_type": "stream",
     "text": [
      "('Cross-validation scores (3-fold):', array([ 0.66909669,  0.6326872 , -1.16575913,  0.48789853,  0.62117018,\n",
      "        0.48180902, -0.20374933,  0.05333916, -1.62295243,  0.22494174]))\n",
      "Mean cross-validation score (3-fold): 0.018\n"
     ]
    }
   ],
   "source": [
    "\n",
    "X=df[['crim','rm','lstat' ]]\n",
    "y=df['medv']\n",
    "linreg = LinearRegression().fit(X, y)\n",
    "cv_scores = cross_val_score(linreg, X, y,cv=10)\n",
    "\n",
    "print('Cross-validation scores (3-fold):', cv_scores)\n",
    "print('Mean cross-validation score (3-fold): {:.3f}'\n",
    "     .format(np.mean(cv_scores)))"
   ]
  },
  {
   "cell_type": "code",
   "execution_count": 176,
   "metadata": {},
   "outputs": [
    {
     "data": {
      "text/plain": [
       "Index([u'Unnamed: 0',       u'crim',         u'zn',      u'indus',\n",
       "             u'chas',        u'nox',         u'rm',        u'age',\n",
       "              u'dis',        u'rad',        u'tax',    u'ptratio',\n",
       "            u'black',      u'lstat',       u'medv'],\n",
       "      dtype='object')"
      ]
     },
     "execution_count": 176,
     "metadata": {},
     "output_type": "execute_result"
    }
   ],
   "source": [
    "df.columns"
   ]
  },
  {
   "cell_type": "code",
   "execution_count": 193,
   "metadata": {},
   "outputs": [
    {
     "name": "stdout",
     "output_type": "stream",
     "text": [
      "('Cross-validation scores (3-fold):', array([ 0.26168833,  0.77713041,  0.42249634]))\n",
      "Mean cross-validation score (3-fold): 0.487\n",
      "('Cross-validation scores (3-fold):', array([ 0.53808013,  0.67523294,  0.81275835,  0.68577017,  0.14394899]))\n",
      "Mean cross-validation score (3-fold): 0.571\n",
      "('Cross-validation scores (3-fold):', array([ 0.59689442,  0.50724061,  0.73831984,  0.83479806,  0.62829451,\n",
      "        0.52860182,  0.52692744]))\n",
      "Mean cross-validation score (3-fold): 0.623\n",
      "('Cross-validation scores (3-fold):', array([ 0.64668893,  0.73235979,  0.56637637,  0.78247962,  0.76621778,\n",
      "        0.85472632,  0.58714933,  0.77097292, -0.02892972,  0.50937794]))\n",
      "Mean cross-validation score (3-fold): 0.619\n",
      "('Cross-validation scores (3-fold):', array([ 0.69305268,  0.69210459,  0.83071333,  0.31450204,  0.86123943,\n",
      "        0.60027496,  0.8301214 ,  0.8647039 ,  0.65715408,  0.71643102,\n",
      "       -0.03993433,  0.62411089,  0.39395154]))\n",
      "Mean cross-validation score (3-fold): 0.618\n"
     ]
    },
    {
     "data": {
      "text/plain": [
       "[0.48710502709657472,\n",
       " 0.57115811748357714,\n",
       " 0.62301095610600932,\n",
       " 0.6187419270694543,\n",
       " 0.61834042423558877]"
      ]
     },
     "execution_count": 193,
     "metadata": {},
     "output_type": "execute_result"
    }
   ],
   "source": [
    "autoDF =pd.read_csv(\"auto_mpg.csv\",encoding=\"ISO-8859-1\")\n",
    "autoDF.shape\n",
    "autoDF.columns\n",
    "autoDF1=autoDF[['mpg','cylinder','displacement','horsepower','weight','acceleration','year']]\n",
    "autoDF2 = autoDF1.apply(pd.to_numeric, errors='coerce')\n",
    "autoDF3=autoDF2.dropna()\n",
    "autoDF3.shape\n",
    "X=autoDF3[['cylinder','displacement','horsepower','weight','acceleration','year']]\n",
    "y=autoDF3['mpg']\n",
    "linreg = LinearRegression().fit(X, y)\n",
    "\n",
    "cv=[3,5,7,10,13]\n",
    "cv_error=[]\n",
    "for i in cv:\n",
    "    cv_scores = cross_val_score(linreg, X, y,cv=i)\n",
    "    print('Cross-validation scores (3-fold):', cv_scores)\n",
    "    print('Mean cross-validation score (3-fold): {:.3f}'\n",
    "      .format(np.mean(cv_scores)))\n",
    "    cv_error.append(np.mean(cv_scores))\n",
    "    \n",
    "cv_error"
   ]
  },
  {
   "cell_type": "code",
   "execution_count": null,
   "metadata": {
    "collapsed": true
   },
   "outputs": [],
   "source": [
    "autoDF =pd.read_csv(\"auto_mpg.csv\",encoding=\"ISO-8859-1\")\n",
    "autoDF.shape\n",
    "autoDF.columns\n",
    "autoDF1=autoDF[['mpg','cylinder','displacement','horsepower','weight','acceleration','year']]\n",
    "autoDF2 = autoDF1.apply(pd.to_numeric, errors='coerce')\n",
    "autoDF3=autoDF2.dropna()\n",
    "autoDF3.shape\n",
    "X=autoDF3[['cylinder','displacement','horsepower','weight','acceleration','year']]\n",
    "y=autoDF3['mpg']\n",
    "linreg = LinearRegression().fit(X, y)"
   ]
  },
  {
   "cell_type": "code",
   "execution_count": 194,
   "metadata": {},
   "outputs": [
    {
     "data": {
      "image/png": "[encoded data removed]",
      "text/plain": [
       "<matplotlib.figure.Figure at 0x11323f28>"
      ]
     },
     "metadata": {},
     "output_type": "display_data"
    }
   ],
   "source": [
    "fig=plt.plot(cv,cv_error)\n",
    "fig=plt.title(\"No of folds and Cross Validation error\")\n",
    "fig=plt.xlabel(\"Number of folds\")\n",
    "fig=plt.ylabel(\"Cross validation error\")\n",
    "plt.show()"
   ]
  },
  {
   "cell_type": "code",
   "execution_count": 243,
   "metadata": {},
   "outputs": [
    {
     "data": {
      "text/plain": [
       "0.0"
      ]
     },
     "execution_count": 243,
     "metadata": {},
     "output_type": "execute_result"
    }
   ],
   "source": [
    "df = pd.read_csv(\"Boston.csv\",encoding = \"ISO-8859-1\")\n",
    "X=df[['crim','rm','lstat','rm']]\n",
    "y=df['medv']\n",
    "loocv = model_selection.LeaveOneOut()\n",
    "for train_index, test_index in loo.split(X):\n",
    "        X_train, X_test = X[train_index], X[test_index]\n",
    "        y_train, y_test = y[train_index], y[test_index]\n",
    "        X_train=X_train.reshape(-1,1)\n",
    "        X_test=X_test.reshape(-1,1)\n",
    "        y_test=y_test.reshape(1,1)\n",
    "        linreg = LinearRegression().fit(X_train, y_train)\n",
    "\n",
    "#loocv = model_selection.LeaveOneOut()\n",
    "#model = LinearRegression()\n",
    "#results = model_selection.cross_val_score(model, X, y, cv=loocv)\n",
    "#results.mean()\n",
    "\n",
    "\n"
   ]
  },
  {
   "cell_type": "code",
   "execution_count": 264,
   "metadata": {},
   "outputs": [
    {
     "name": "stdout",
     "output_type": "stream",
     "text": [
      "Mean cross-validation score (3-fold): 0.394\n",
      "Mean cross-validation score (3-fold): 0.394\n",
      "Mean cross-validation score (3-fold): 0.394\n",
      "Mean cross-validation score (3-fold): 0.394\n",
      "Mean cross-validation score (3-fold): 0.394\n",
      "Mean cross-validation score (3-fold): 0.394\n",
      "Mean cross-validation score (3-fold): 0.394\n",
      "Mean cross-validation score (3-fold): 0.394\n",
      "Mean cross-validation score (3-fold): 0.394\n",
      "Mean cross-validation score (3-fold): 0.394\n"
     ]
    },
    {
     "data": {
      "image/png": "[encoded data removed]",
      "text/plain": [
       "<matplotlib.figure.Figure at 0x110cdb70>"
      ]
     },
     "metadata": {},
     "output_type": "display_data"
    }
   ],
   "source": [
    "#https://www.quantstart.com/articles/Using-Cross-Validation-to-Optimise-a-Machine-Learning-Method-The-Regression-Setting\n",
    "from sklearn.preprocessing import PolynomialFeatures\n",
    "from sklearn.metrics import mean_squared_error\n",
    "autoDF =pd.read_csv(\"auto_mpg.csv\",encoding=\"ISO-8859-1\")\n",
    "autoDF.shape\n",
    "autoDF.columns\n",
    "autoDF1=autoDF[['mpg','cylinder','displacement','horsepower','weight','acceleration','year']]\n",
    "autoDF2 = autoDF1.apply(pd.to_numeric, errors='coerce')\n",
    "autoDF3=autoDF2.dropna()\n",
    "autoDF3.shape\n",
    "#X=autoDF3[['cylinder','displacement','horsepower','weight']]\n",
    "X=autoDF3[['horsepower']]\n",
    "y=autoDF3['mpg']\n",
    "\n",
    "cv_error=[]\n",
    "mse_error=[]\n",
    "degree1=[1,2,3,4,5,6,7,8,9,10]\n",
    "for i in degree1:\n",
    "    poly = PolynomialFeatures(degree=i)\n",
    "    X_poly = poly.fit_transform(X)\n",
    "    X_train, X_test, y_train, y_test = train_test_split(X_poly, y,random_state = 0)\n",
    "    linreg = LinearRegression().fit(X_train, y_train)\n",
    "    cv_scores = cross_val_score(linreg, X, y,cv=10)\n",
    "    y_pred = linreg.predict(X_test)\n",
    "    test_mse = mean_squared_error(y_test, y_pred)\n",
    "    mse_error.append(test_mse)\n",
    "    #print('Cross-validation scores (3-fold):', cv_scores)\n",
    "    print('Mean cross-validation score (3-fold): {:.3f}'\n",
    "      .format(np.mean(cv_scores)))\n",
    "    cv_error.append(np.mean(cv_scores))\n",
    "    \n",
    "cv_error\n",
    "mse_error\n",
    "fig=plt.plot(degree1,mse_error)\n",
    "fig=plt.title(\"Degree of polynomial and Mean Squared error\")\n",
    "fig=plt.xlabel(\"Degree of polynomial\")\n",
    "fig=plt.ylabel(\"Mean squared error\")\n",
    "plt.show()"
   ]
  },
  {
   "cell_type": "code",
   "execution_count": 251,
   "metadata": {},
   "outputs": [
    {
     "data": {
      "text/plain": [
       "array([0, 1, 2, 3, 4, 5, 6, 7, 8, 9])"
      ]
     },
     "execution_count": 251,
     "metadata": {},
     "output_type": "execute_result"
    }
   ],
   "source": [
    "from sklearn.preprocessing import PolynomialFeatures\n",
    "autoDF =pd.read_csv(\"auto_mpg.csv\",encoding=\"ISO-8859-1\")\n",
    "autoDF.shape\n",
    "autoDF.columns\n",
    "autoDF1=autoDF[['mpg','cylinder','displacement','horsepower','weight','acceleration','year']]\n",
    "autoDF2 = autoDF1.apply(pd.to_numeric, errors='coerce')\n",
    "autoDF3=autoDF2.dropna()\n",
    "autoDF3.shape\n",
    "#X=autoDF3[['cylinder','displacement','horsepower','weight','acceleration','year']]\n",
    "X=autoDF3[['horsepower']]\n",
    "poly = PolynomialFeatures(degree=2)\n",
    "X_poly = poly.fit_transform(X)\n",
    "degree1=np.arange(10)\n",
    "degree1"
   ]
  },
  {
   "cell_type": "code",
   "execution_count": 254,
   "metadata": {},
   "outputs": [
    {
     "name": "stdout",
     "output_type": "stream",
     "text": [
      "1\n",
      "2\n",
      "3\n",
      "4\n",
      "5\n",
      "6\n",
      "7\n",
      "8\n",
      "9\n",
      "10\n"
     ]
    }
   ],
   "source": [
    "degree1=[1,2,3,4,5,6,7,8,9,10]\n",
    "for i in degree1:\n",
    "    print(i)"
   ]
  },
  {
   "cell_type": "code",
   "execution_count": null,
   "metadata": {
    "collapsed": true
   },
   "outputs": [],
   "source": []
  }
 ],
 "metadata": {
  "kernelspec": {
   "display_name": "Python 2",
   "language": "python",
   "name": "python2"
  },
  "language_info": {
   "codemirror_mode": {
    "name": "ipython",
    "version": 2
   },
   "file_extension": ".py",
   "mimetype": "text/x-python",
   "name": "python",
   "nbconvert_exporter": "python",
   "pygments_lexer": "ipython2",
   "version": "2.7.13"
  }
 },
 "nbformat": 4,
 "nbformat_minor": 2
}
