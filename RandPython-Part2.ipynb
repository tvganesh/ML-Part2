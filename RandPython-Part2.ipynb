{
 "cells": [
  {
   "cell_type": "code",
   "execution_count": 34,
   "metadata": {
    "collapsed": true
   },
   "outputs": [],
   "source": [
    "import numpy as np\n",
    "import pandas as pd\n",
    "import os\n",
    "import matplotlib.pyplot as plt\n",
    "from sklearn.model_selection import train_test_split\n",
    "os.chdir(\"C:\\\\Users\\\\Ganesh\\\\RandPython\")\n",
    "from sklearn.datasets import make_classification, make_blobs\n",
    "\n",
    "from sklearn.metrics import confusion_matrix\n",
    "from matplotlib.colors import ListedColormap\n",
    "from sklearn.datasets import load_breast_cancer\n"
   ]
  },
  {
   "cell_type": "code",
   "execution_count": 80,
   "metadata": {
    "collapsed": true
   },
   "outputs": [],
   "source": [
    "# Setting return-X_y=True returns the features and the target variable\n",
    "(X_cancer, y_cancer) = load_breast_cancer(return_X_y = True)"
   ]
  },
  {
   "cell_type": "code",
   "execution_count": 19,
   "metadata": {
    "collapsed": true
   },
   "outputs": [],
   "source": [
    "from sklearn.linear_model import LogisticRegression\n",
    "from adspy_shared_utilities import (\n",
    "plot_class_regions_for_classifier_subplot)\n",
    "X_train, X_test, y_train, y_test = train_test_split(X_cancer, y_cancer,\n",
    "                                                   random_state = 0)"
   ]
  },
  {
   "cell_type": "code",
   "execution_count": 20,
   "metadata": {
    "collapsed": true
   },
   "outputs": [],
   "source": [
    "clf = LogisticRegression().fit(X_train, y_train)"
   ]
  },
  {
   "cell_type": "code",
   "execution_count": 31,
   "metadata": {},
   "outputs": [
    {
     "name": "stdout",
     "output_type": "stream",
     "text": [
      "Accuracy of Logistic regression classifier on training set: 0.96\n",
      "Accuracy of Logistic regression classifier on test set: 0.96\n"
     ]
    }
   ],
   "source": [
    "fig, subaxes = plt.subplots(1, 1, figsize=(7, 5))\n",
    "clf = LogisticRegression().fit(X_train, y_train)\n",
    "\n",
    "\n",
    "print('Accuracy of Logistic regression classifier on training set: {:.2f}'\n",
    "     .format(clf.score(X_train, y_train)))\n",
    "print('Accuracy of Logistic regression classifier on test set: {:.2f}'\n",
    "     .format(clf.score(X_test, y_test)))"
   ]
  },
  {
   "cell_type": "code",
   "execution_count": 35,
   "metadata": {
    "collapsed": true
   },
   "outputs": [],
   "source": [
    "y_predicted=clf.predict(X_test)\n",
    "confusion = confusion_matrix(y_test, y_predicted)"
   ]
  },
  {
   "cell_type": "code",
   "execution_count": 36,
   "metadata": {},
   "outputs": [
    {
     "data": {
      "text/plain": [
       "array([[52,  1],\n",
       "       [ 5, 85]])"
      ]
     },
     "execution_count": 36,
     "metadata": {},
     "output_type": "execute_result"
    }
   ],
   "source": [
    "confusion"
   ]
  },
  {
   "cell_type": "code",
   "execution_count": 37,
   "metadata": {},
   "outputs": [
    {
     "name": "stdout",
     "output_type": "stream",
     "text": [
      "Accuracy: 0.96\n",
      "Precision: 0.99\n",
      "Recall: 0.94\n",
      "F1: 0.97\n"
     ]
    }
   ],
   "source": [
    "from sklearn.metrics import accuracy_score, precision_score, recall_score, f1_score\n",
    "# Accuracy = TP + TN / (TP + TN + FP + FN) (All positives/(All))\n",
    "# Precision = TP / (TP + FP) Ratio of True of positives among all positives\n",
    "# Recall = TP / (TP + FN)  Also known as sensitivity, or True Positive Rate  (True positive)/()\n",
    "# F1 = 2 * Precision * Recall / (Precision + Recall) \n",
    "print('Accuracy: {:.2f}'.format(accuracy_score(y_test, y_predicted)))\n",
    "print('Precision: {:.2f}'.format(precision_score(y_test, y_predicted)))\n",
    "print('Recall: {:.2f}'.format(recall_score(y_test, y_predicted)))\n",
    "print('F1: {:.2f}'.format(f1_score(y_test, y_predicted)))"
   ]
  },
  {
   "cell_type": "code",
   "execution_count": 83,
   "metadata": {
    "collapsed": true
   },
   "outputs": [],
   "source": [
    "y_cancer=y_cancer.reshape(569L,1L)\n",
    "cancer=np.append(X_cancer,y_cancer,axis=1)\n",
    "np.savetxt(\"cancer.csv\", cancer, delimiter=\",\")"
   ]
  },
  {
   "cell_type": "code",
   "execution_count": 84,
   "metadata": {},
   "outputs": [
    {
     "data": {
      "text/plain": [
       "(569L, 31L)"
      ]
     },
     "execution_count": 84,
     "metadata": {},
     "output_type": "execute_result"
    }
   ],
   "source": [
    "cancer.shape"
   ]
  },
  {
   "cell_type": "code",
   "execution_count": 95,
   "metadata": {
    "collapsed": true
   },
   "outputs": [],
   "source": [
    "df =pd.read_csv(\"adult1.csv\",encoding=\"ISO-8859-1\",na_values=[\"\",\" \",\" ?\"])"
   ]
  },
  {
   "cell_type": "code",
   "execution_count": 125,
   "metadata": {},
   "outputs": [
    {
     "name": "stdout",
     "output_type": "stream",
     "text": [
      "(30161, 16)\n"
     ]
    }
   ],
   "source": [
    "df1=df.dropna()\n",
    "print(df1.shape)\n",
    "adult = df1[['age','occupation','education','educationNum','capitalGain','capital-loss', \n",
    "             'hours-per-week','native-country','salary']]\n",
    "\n",
    "X=adult[['age','occupation','education','educationNum','capitalGain','capital-loss', \n",
    "             'hours-per-week','native-country']]\n",
    "X_adult=pd.get_dummies(X,columns=['occupation','education','native-country'])\n",
    "y=adult['salary']\n",
    "\n",
    "X_adult_train, X_adult_test, y_train, y_test = train_test_split(X_adult, y,\n",
    "                                                   random_state = 0)"
   ]
  },
  {
   "cell_type": "code",
   "execution_count": 130,
   "metadata": {},
   "outputs": [
    {
     "data": {
      "text/plain": [
       "numpy.int64"
      ]
     },
     "execution_count": 130,
     "metadata": {},
     "output_type": "execute_result"
    }
   ],
   "source": [
    "type(y_train[0])"
   ]
  },
  {
   "cell_type": "code",
   "execution_count": 137,
   "metadata": {},
   "outputs": [
    {
     "name": "stdout",
     "output_type": "stream",
     "text": [
      "Accuracy of Logistic regression classifier on training set: 0.82\n",
      "Accuracy of Logistic regression classifier on test set: 0.81\n"
     ]
    }
   ],
   "source": [
    "clf = LogisticRegression().fit(X_adult_train, y_train)\n",
    "\n",
    "\n",
    "print('Accuracy of Logistic regression classifier on training set: {:.2f}'\n",
    "     .format(clf.score(X_adult_train, y_train)))\n",
    "print('Accuracy of Logistic regression classifier on test set: {:.2f}'\n",
    "     .format(clf.score(X_adult_test, y_test)))\n"
   ]
  },
  {
   "cell_type": "code",
   "execution_count": 138,
   "metadata": {},
   "outputs": [
    {
     "name": "stdout",
     "output_type": "stream",
     "text": [
      "Accuracy: 0.81\n",
      "Precision: 0.68\n",
      "Recall: 0.41\n",
      "F1: 0.51\n"
     ]
    }
   ],
   "source": [
    "y_predicted=clf.predict(X_adult_test)\n",
    "confusion = confusion_matrix(y_test, y_predicted)\n",
    "print('Accuracy: {:.2f}'.format(accuracy_score(y_test, y_predicted)))\n",
    "print('Precision: {:.2f}'.format(precision_score(y_test, y_predicted)))\n",
    "print('Recall: {:.2f}'.format(recall_score(y_test, y_predicted)))\n",
    "print('F1: {:.2f}'.format(f1_score(y_test, y_predicted)))"
   ]
  },
  {
   "cell_type": "code",
   "execution_count": 139,
   "metadata": {
    "collapsed": true
   },
   "outputs": [],
   "source": [
    "from sklearn.neighbors import KNeighborsClassifier\n",
    "from sklearn.preprocessing import MinMaxScaler\n",
    "scaler = MinMaxScaler()\n",
    "X_train_scaled = scaler.fit_transform(X_adult_train)\n",
    "# Apply scaling to test set also\n",
    "X_test_scaled = scaler.transform(X_adult_test)"
   ]
  },
  {
   "cell_type": "code",
   "execution_count": 141,
   "metadata": {},
   "outputs": [
    {
     "name": "stdout",
     "output_type": "stream",
     "text": [
      "Accuracy of K-NN classifier on training set: 0.85\n",
      "Accuracy of K-NN classifier on test set: 0.79\n"
     ]
    }
   ],
   "source": [
    "knn = KNeighborsClassifier(n_neighbors = 5)\n",
    "knn.fit(X_train_scaled, y_train)\n",
    "print('Accuracy of K-NN classifier on training set: {:.2f}'\n",
    "     .format(knn.score(X_train_scaled, y_train)))\n",
    "print('Accuracy of K-NN classifier on test set: {:.2f}'\n",
    "     .format(knn.score(X_test_scaled, y_test)))\n"
   ]
  },
  {
   "cell_type": "code",
   "execution_count": 142,
   "metadata": {},
   "outputs": [
    {
     "name": "stdout",
     "output_type": "stream",
     "text": [
      "Accuracy test score: 0.749\n",
      "Accuracy test score: 0.779\n",
      "Accuracy test score: 0.793\n",
      "Accuracy test score: 0.804\n",
      "Accuracy test score: 0.803\n"
     ]
    }
   ],
   "source": [
    "accuracy=[]\n",
    "neighbors=[1,3,5,10,15]\n",
    "for i in neighbors:\n",
    "    knn = KNeighborsClassifier(n_neighbors = i)\n",
    "    knn.fit(X_train_scaled, y_train)\n",
    "    accuracy.append(knn.score(X_test_scaled, y_test))\n",
    "    print('Accuracy test score: {:.3f}'\n",
    "        .format(knn.score(X_test_scaled, y_test)))"
   ]
  },
  {
   "cell_type": "code",
   "execution_count": 145,
   "metadata": {},
   "outputs": [
    {
     "data": {
      "image/png": "[encoded data removed]",
      "text/plain": [
       "<matplotlib.figure.Figure at 0xda97f98>"
      ]
     },
     "metadata": {},
     "output_type": "display_data"
    }
   ],
   "source": [
    "fig=plt.plot(neighbors,accuracy)\n",
    "fig=plt.title(\"KNN regression - Accuracy vs Number of neighbors\")\n",
    "fig=plt.xlabel(\"Neighbors\")\n",
    "fig=plt.ylabel(\"Accuracy\")\n",
    "plt.show()"
   ]
  },
  {
   "cell_type": "code",
   "execution_count": 168,
   "metadata": {},
   "outputs": [
    {
     "name": "stderr",
     "output_type": "stream",
     "text": [
      "C:\\Users\\Ganesh\\Anaconda2\\lib\\site-packages\\ipykernel_launcher.py:5: FutureWarning: reshape is deprecated and will raise in a subsequent release. Please use .values.reshape(...) instead\n",
      "  \"\"\"\n",
      "C:\\Users\\Ganesh\\Anaconda2\\lib\\site-packages\\ipykernel_launcher.py:6: FutureWarning: reshape is deprecated and will raise in a subsequent release. Please use .values.reshape(...) instead\n",
      "  \n"
     ]
    }
   ],
   "source": [
    "os.chdir(\"C:\\\\software\\\\machine-learning\\\\RandPython\")\n",
    "df = pd.read_csv(\"Boston.csv\",encoding = \"ISO-8859-1\")\n",
    "X=df['lstat']\n",
    "y=df['medv']\n",
    "X1=X.reshape(-1,1)\n",
    "y1=y.reshape(-1,1)\n",
    "from sklearn.linear_model import LinearRegression\n",
    "\n",
    "linreg = LinearRegression().fit(X1, y1)"
   ]
  },
  {
   "cell_type": "code",
   "execution_count": 165,
   "metadata": {},
   "outputs": [
    {
     "data": {
      "text/plain": [
       "(506L, 1L)"
      ]
     },
     "execution_count": 165,
     "metadata": {},
     "output_type": "execute_result"
    }
   ],
   "source": [
    "X1.shape\n",
    "y1.shape"
   ]
  },
  {
   "cell_type": "code",
   "execution_count": 172,
   "metadata": {},
   "outputs": [
    {
     "name": "stdout",
     "output_type": "stream",
     "text": [
      "('Cross-validation scores (3-fold):', array([ 0.4282059 ,  0.10625862,  0.42011508]))\n",
      "Mean cross-validation score (3-fold): 0.318\n"
     ]
    }
   ],
   "source": [
    "##clf = KNeighborsClassifier(n_neighbors = 5)\n",
    "#X = X_fruits_2d.as_matrix()\n",
    "#y = y_fruits_2d.as_matrix()\n",
    "\n",
    "from sklearn.model_selection import cross_val_score\n",
    "cv_scores = cross_val_score(linreg, X1, y1)\n",
    "\n",
    "print('Cross-validation scores (3-fold):', cv_scores)\n",
    "print('Mean cross-validation score (3-fold): {:.3f}'\n",
    "     .format(np.mean(cv_scores)))"
   ]
  },
  {
   "cell_type": "code",
   "execution_count": null,
   "metadata": {
    "collapsed": true
   },
   "outputs": [],
   "source": [
    "X=df[['crim','zn', 'nox','rm',\n",
    "        'dis','rad','tax','ptratio',\n",
    "         'lstat' ]]"
   ]
  },
  {
   "cell_type": "code",
   "execution_count": 191,
   "metadata": {},
   "outputs": [
    {
     "name": "stdout",
     "output_type": "stream",
     "text": [
      "('Cross-validation scores (3-fold):', array([ 0.66909669,  0.6326872 , -1.16575913,  0.48789853,  0.62117018,\n",
      "        0.48180902, -0.20374933,  0.05333916, -1.62295243,  0.22494174]))\n",
      "Mean cross-validation score (3-fold): 0.018\n"
     ]
    }
   ],
   "source": [
    "\n",
    "X=df[['crim','rm','lstat' ]]\n",
    "y=df['medv']\n",
    "linreg = LinearRegression().fit(X, y)\n",
    "cv_scores = cross_val_score(linreg, X, y,cv=10)\n",
    "\n",
    "print('Cross-validation scores (3-fold):', cv_scores)\n",
    "print('Mean cross-validation score (3-fold): {:.3f}'\n",
    "     .format(np.mean(cv_scores)))"
   ]
  },
  {
   "cell_type": "code",
   "execution_count": 176,
   "metadata": {},
   "outputs": [
    {
     "data": {
      "text/plain": [
       "Index([u'Unnamed: 0',       u'crim',         u'zn',      u'indus',\n",
       "             u'chas',        u'nox',         u'rm',        u'age',\n",
       "              u'dis',        u'rad',        u'tax',    u'ptratio',\n",
       "            u'black',      u'lstat',       u'medv'],\n",
       "      dtype='object')"
      ]
     },
     "execution_count": 176,
     "metadata": {},
     "output_type": "execute_result"
    }
   ],
   "source": [
    "df.columns"
   ]
  },
  {
   "cell_type": "code",
   "execution_count": 193,
   "metadata": {},
   "outputs": [
    {
     "name": "stdout",
     "output_type": "stream",
     "text": [
      "('Cross-validation scores (3-fold):', array([ 0.26168833,  0.77713041,  0.42249634]))\n",
      "Mean cross-validation score (3-fold): 0.487\n",
      "('Cross-validation scores (3-fold):', array([ 0.53808013,  0.67523294,  0.81275835,  0.68577017,  0.14394899]))\n",
      "Mean cross-validation score (3-fold): 0.571\n",
      "('Cross-validation scores (3-fold):', array([ 0.59689442,  0.50724061,  0.73831984,  0.83479806,  0.62829451,\n",
      "        0.52860182,  0.52692744]))\n",
      "Mean cross-validation score (3-fold): 0.623\n",
      "('Cross-validation scores (3-fold):', array([ 0.64668893,  0.73235979,  0.56637637,  0.78247962,  0.76621778,\n",
      "        0.85472632,  0.58714933,  0.77097292, -0.02892972,  0.50937794]))\n",
      "Mean cross-validation score (3-fold): 0.619\n",
      "('Cross-validation scores (3-fold):', array([ 0.69305268,  0.69210459,  0.83071333,  0.31450204,  0.86123943,\n",
      "        0.60027496,  0.8301214 ,  0.8647039 ,  0.65715408,  0.71643102,\n",
      "       -0.03993433,  0.62411089,  0.39395154]))\n",
      "Mean cross-validation score (3-fold): 0.618\n"
     ]
    },
    {
     "data": {
      "text/plain": [
       "[0.48710502709657472,\n",
       " 0.57115811748357714,\n",
       " 0.62301095610600932,\n",
       " 0.6187419270694543,\n",
       " 0.61834042423558877]"
      ]
     },
     "execution_count": 193,
     "metadata": {},
     "output_type": "execute_result"
    }
   ],
   "source": [
    "autoDF =pd.read_csv(\"auto_mpg.csv\",encoding=\"ISO-8859-1\")\n",
    "autoDF.shape\n",
    "autoDF.columns\n",
    "autoDF1=autoDF[['mpg','cylinder','displacement','horsepower','weight','acceleration','year']]\n",
    "autoDF2 = autoDF1.apply(pd.to_numeric, errors='coerce')\n",
    "autoDF3=autoDF2.dropna()\n",
    "autoDF3.shape\n",
    "X=autoDF3[['cylinder','displacement','horsepower','weight','acceleration','year']]\n",
    "y=autoDF3['mpg']\n",
    "linreg = LinearRegression().fit(X, y)\n",
    "\n",
    "cv=[3,5,7,10,13]\n",
    "cv_error=[]\n",
    "for i in cv:\n",
    "    cv_scores = cross_val_score(linreg, X, y,cv=i)\n",
    "    print('Cross-validation scores (3-fold):', cv_scores)\n",
    "    print('Mean cross-validation score (3-fold): {:.3f}'\n",
    "      .format(np.mean(cv_scores)))\n",
    "    cv_error.append(np.mean(cv_scores))\n",
    "    \n",
    "cv_error"
   ]
  },
  {
   "cell_type": "code",
   "execution_count": null,
   "metadata": {
    "collapsed": true
   },
   "outputs": [],
   "source": [
    "autoDF =pd.read_csv(\"auto_mpg.csv\",encoding=\"ISO-8859-1\")\n",
    "autoDF.shape\n",
    "autoDF.columns\n",
    "autoDF1=autoDF[['mpg','cylinder','displacement','horsepower','weight','acceleration','year']]\n",
    "autoDF2 = autoDF1.apply(pd.to_numeric, errors='coerce')\n",
    "autoDF3=autoDF2.dropna()\n",
    "autoDF3.shape\n",
    "X=autoDF3[['cylinder','displacement','horsepower','weight','acceleration','year']]\n",
    "y=autoDF3['mpg']\n",
    "linreg = LinearRegression().fit(X, y)"
   ]
  },
  {
   "cell_type": "code",
   "execution_count": 194,
   "metadata": {},
   "outputs": [
    {
     "data": {
      "image/png": "[encoded data removed]",
      "text/plain": [
       "<matplotlib.figure.Figure at 0x11323f28>"
      ]
     },
     "metadata": {},
     "output_type": "display_data"
    }
   ],
   "source": [
    "fig=plt.plot(cv,cv_error)\n",
    "fig=plt.title(\"No of folds and Cross Validation error\")\n",
    "fig=plt.xlabel(\"Number of folds\")\n",
    "fig=plt.ylabel(\"Cross validation error\")\n",
    "plt.show()"
   ]
  },
  {
   "cell_type": "code",
   "execution_count": 243,
   "metadata": {},
   "outputs": [
    {
     "data": {
      "text/plain": [
       "0.0"
      ]
     },
     "execution_count": 243,
     "metadata": {},
     "output_type": "execute_result"
    }
   ],
   "source": [
    "df = pd.read_csv(\"Boston.csv\",encoding = \"ISO-8859-1\")\n",
    "X=df[['crim','rm','lstat','rm']]\n",
    "y=df['medv']\n",
    "loocv = model_selection.LeaveOneOut()\n",
    "for train_index, test_index in loo.split(X):\n",
    "        X_train, X_test = X[train_index], X[test_index]\n",
    "        y_train, y_test = y[train_index], y[test_index]\n",
    "        X_train=X_train.reshape(-1,1)\n",
    "        X_test=X_test.reshape(-1,1)\n",
    "        y_test=y_test.reshape(1,1)\n",
    "        linreg = LinearRegression().fit(X_train, y_train)\n",
    "\n",
    "#loocv = model_selection.LeaveOneOut()\n",
    "#model = LinearRegression()\n",
    "#results = model_selection.cross_val_score(model, X, y, cv=loocv)\n",
    "#results.mean()\n",
    "\n",
    "\n"
   ]
  },
  {
   "cell_type": "code",
   "execution_count": 265,
   "metadata": {},
   "outputs": [
    {
     "name": "stdout",
     "output_type": "stream",
     "text": [
      "Mean cross-validation score (3-fold): 0.195\n",
      "Mean cross-validation score (3-fold): 0.195\n",
      "Mean cross-validation score (3-fold): 0.195\n",
      "Mean cross-validation score (3-fold): 0.195\n",
      "Mean cross-validation score (3-fold): 0.195\n",
      "Mean cross-validation score (3-fold): 0.195\n",
      "Mean cross-validation score (3-fold): 0.195\n",
      "Mean cross-validation score (3-fold): 0.195\n",
      "Mean cross-validation score (3-fold): 0.195\n",
      "Mean cross-validation score (3-fold): 0.195\n"
     ]
    },
    {
     "data": {
      "image/png": "[encoded data removed]",
      "text/plain": [
       "<matplotlib.figure.Figure at 0xda52e10>"
      ]
     },
     "metadata": {},
     "output_type": "display_data"
    }
   ],
   "source": [
    "#https://www.quantstart.com/articles/Using-Cross-Validation-to-Optimise-a-Machine-Learning-Method-The-Regression-Setting\n",
    "from sklearn.preprocessing import PolynomialFeatures\n",
    "from sklearn.metrics import mean_squared_error\n",
    "autoDF =pd.read_csv(\"auto_mpg.csv\",encoding=\"ISO-8859-1\")\n",
    "autoDF.shape\n",
    "autoDF.columns\n",
    "autoDF1=autoDF[['mpg','cylinder','displacement','horsepower','weight','acceleration','year']]\n",
    "autoDF2 = autoDF1.apply(pd.to_numeric, errors='coerce')\n",
    "autoDF3=autoDF2.dropna()\n",
    "autoDF3.shape\n",
    "#X=autoDF3[['cylinder','displacement','horsepower','weight']]\n",
    "X=autoDF3[['horsepower']]\n",
    "y=autoDF3['mpg']\n",
    "\n",
    "cv_error=[]\n",
    "mse_error=[]\n",
    "degree1=[1,2,3,4,5,6,7,8,9,10]\n",
    "for i in degree1:\n",
    "    poly = PolynomialFeatures(degree=i)\n",
    "    X_poly = poly.fit_transform(X)\n",
    "    X_train, X_test, y_train, y_test = train_test_split(X_poly, y,random_state = 0)\n",
    "    linreg = LinearRegression().fit(X_train, y_train)\n",
    "    cv_scores = cross_val_score(linreg, X, y,cv=10)\n",
    "    y_pred = linreg.predict(X_test)\n",
    "    test_mse = mean_squared_error(y_test, y_pred)\n",
    "    mse_error.append(test_mse)\n",
    "    #print('Cross-validation scores (3-fold):', cv_scores)\n",
    "    print('Mean cross-validation score (3-fold): {:.3f}'\n",
    "      .format(np.mean(cv_scores)))\n",
    "    cv_error.append(np.mean(cv_scores))\n",
    "    \n",
    "cv_error\n",
    "mse_error\n",
    "fig=plt.plot(degree1,mse_error)\n",
    "fig=plt.title(\"Degree of polynomial and Mean Squared error\")\n",
    "fig=plt.xlabel(\"Degree of polynomial\")\n",
    "fig=plt.ylabel(\"Mean squared error\")\n",
    "plt.show()"
   ]
  },
  {
   "cell_type": "code",
   "execution_count": 268,
   "metadata": {},
   "outputs": [
    {
     "name": "stdout",
     "output_type": "stream",
     "text": [
      "Mean cross-validation score (3-fold): 0.000\n",
      "Mean cross-validation score (3-fold): 0.000\n",
      "Mean cross-validation score (3-fold): 0.000\n",
      "Mean cross-validation score (3-fold): 0.000\n",
      "Mean cross-validation score (3-fold): 0.000\n",
      "Mean cross-validation score (3-fold): 0.000\n",
      "Mean cross-validation score (3-fold): 0.000\n",
      "Mean cross-validation score (3-fold): 0.000\n",
      "Mean cross-validation score (3-fold): 0.000\n",
      "Mean cross-validation score (3-fold): 0.000\n"
     ]
    },
    {
     "data": {
      "image/png": "[encoded data removed]",
      "text/plain": [
       "<matplotlib.figure.Figure at 0xd7a3710>"
      ]
     },
     "metadata": {},
     "output_type": "display_data"
    }
   ],
   "source": [
    "from sklearn.preprocessing import PolynomialFeatures\n",
    "from sklearn.metrics import mean_squared_error\n",
    "autoDF =pd.read_csv(\"auto_mpg.csv\",encoding=\"ISO-8859-1\")\n",
    "autoDF.shape\n",
    "autoDF.columns\n",
    "autoDF1=autoDF[['mpg','cylinder','displacement','horsepower','weight','acceleration','year']]\n",
    "autoDF2 = autoDF1.apply(pd.to_numeric, errors='coerce')\n",
    "autoDF3=autoDF2.dropna()\n",
    "autoDF3.shape\n",
    "#X=autoDF3[['cylinder','displacement','horsepower','weight']]\n",
    "X=autoDF3[['horsepower']]\n",
    "y=autoDF3['mpg']\n",
    "\n",
    "cv_error=[]\n",
    "mse_error=[]\n",
    "degree1=[1,2,3,4,5,6,7,8,9,10]\n",
    "for i in degree1:\n",
    "    poly = PolynomialFeatures(degree=i)\n",
    "    X_poly = poly.fit_transform(X)\n",
    "    X_train, X_test, y_train, y_test = train_test_split(X_poly, y,random_state = 0)\n",
    "    linreg = LinearRegression().fit(X_train, y_train)\n",
    "    cv_scores = cross_val_score(linreg, X, y,cv=autoDF3.shape[0])\n",
    "    y_pred = linreg.predict(X_test)\n",
    "    test_mse = mean_squared_error(y_test, y_pred)\n",
    "    mse_error.append(test_mse)\n",
    "    #print('Cross-validation scores (3-fold):', cv_scores)\n",
    "    print('Mean cross-validation score (3-fold): {:.3f}'\n",
    "      .format(np.mean(cv_scores)))\n",
    "    cv_error.append(np.mean(cv_scores))\n",
    "    \n",
    "cv_error\n",
    "mse_error\n",
    "fig=plt.plot(degree1,mse_error)\n",
    "fig=plt.title(\"Degree of polynomial and Mean Squared error\")\n",
    "fig=plt.xlabel(\"Degree of polynomial\")\n",
    "fig=plt.ylabel(\"Mean squared error\")\n",
    "plt.show()"
   ]
  },
  {
   "cell_type": "code",
   "execution_count": 269,
   "metadata": {},
   "outputs": [
    {
     "name": "stdout",
     "output_type": "stream",
     "text": [
      "1\n",
      "2\n",
      "3\n",
      "4\n",
      "5\n",
      "6\n",
      "7\n",
      "8\n",
      "9\n",
      "10\n"
     ]
    },
    {
     "data": {
      "text/plain": [
       "array([[ 0.,  0.,  0.,  0.,  0.,  0.,  0.,  0.,  0.,  0.],\n",
       "       [ 0.,  0.,  0.,  0.,  0.,  0.,  0.,  0.,  0.,  0.],\n",
       "       [ 0.,  0.,  0.,  0.,  0.,  0.,  0.,  0.,  0.,  0.]])"
      ]
     },
     "execution_count": 269,
     "metadata": {},
     "output_type": "execute_result"
    }
   ],
   "source": [
    "degree1=[1,2,3,4,5,6,7,8,9,10]\n",
    "for i in degree1:\n",
    "    print(i)\n",
    "\n",
    "autoDF3.shape[0]\n",
    "a=np.zeros(30).reshape(3,10)\n",
    "a"
   ]
  },
  {
   "cell_type": "code",
   "execution_count": 297,
   "metadata": {},
   "outputs": [],
   "source": [
    "a=np.zeros(30).reshape(3,10)\n",
    "cv_error=[]\n",
    "mse_error=[]\n",
    "fold=[3,5,10]\n",
    "degree1=[1,2,3,4,5,6,7,8,9,10]\n",
    "for i, value in enumerate(fold):\n",
    "    for j in degree1:\n",
    "        poly = PolynomialFeatures(degree=j)\n",
    "        X_poly = poly.fit_transform(X)\n",
    "        X_train, X_test, y_train, y_test = train_test_split(X_poly, y,random_state = 0)\n",
    "        linreg = LinearRegression().fit(X_train, y_train)\n",
    "        cv_scores = cross_val_score(linreg, X, y,cv=value)\n",
    "        y_pred = linreg.predict(X_test)\n",
    "        test_mse = mean_squared_error(y_test, y_pred)\n",
    "        a[i,j-1]=test_mse\n",
    "        #print(test_mse)\n",
    "        #mse_error.append(test_mse)\n",
    "\n",
    "        #print('Cross-validation scores (3-fold):', cv_scores)\n",
    "        #print('Mean cross-validation score (3-fold): {:.3f}'\n",
    "          #.format(np.mean(cv_scores)))\n",
    "        #cv_error.append(np.mean(cv_scores))\n",
    "\n",
    "        \n",
    "df = pd.DataFrame(a)"
   ]
  },
  {
   "cell_type": "code",
   "execution_count": 298,
   "metadata": {},
   "outputs": [
    {
     "data": {
      "text/plain": [
       "<matplotlib.axes._subplots.AxesSubplot at 0x11a55668>"
      ]
     },
     "execution_count": 298,
     "metadata": {},
     "output_type": "execute_result"
    }
   ],
   "source": [
    "df1 = df.transpose()\n",
    "df1.plot()"
   ]
  },
  {
   "cell_type": "code",
   "execution_count": 295,
   "metadata": {},
   "outputs": [
    {
     "name": "stdout",
     "output_type": "stream",
     "text": [
      "3\n",
      "5\n",
      "10\n"
     ]
    }
   ],
   "source": [
    "a=np.arange(30).reshape(3,10)\n",
    "a\n",
    "a[2,4]\n",
    "fold=[3,5,10]\n",
    "\n",
    "for i, value in enumerate(fold):\n",
    "    print(value)"
   ]
  },
  {
   "cell_type": "code",
   "execution_count": 460,
   "metadata": {},
   "outputs": [
    {
     "name": "stdout",
     "output_type": "stream",
     "text": [
      "[6.2894028177115002, 5.5794172932232105, 5.3426834007723922, 5.2247820342283795, 5.1227573274542824, 5.0481884617879018, 5.0026474762495496, 4.9746202212684336, 4.9534163084928835, 4.9351826380545303]\n",
      "[4.0830128286819569, 3.6216003148163631, 3.4703761631966041, 3.3943215176567394, 3.3317373743563938, 3.2868201707013909, 3.2595788729796333, 3.2422592382949209, 3.2283189662823317, 3.2155296148468291]\n",
      "[2.7439933652339863, 2.4337886854070714, 2.3337459963838949, 2.2841566720203117, 2.2454374560996739, 2.2171563235010692, 2.1997546224946842, 2.1882511632606976, 2.1788402644812388, 2.1708105593723159]\n"
     ]
    },
    {
     "data": {
      "image/png": "[encoded data removed]",
      "text/plain": [
       "<matplotlib.figure.Figure at 0x11c445f8>"
      ]
     },
     "metadata": {},
     "output_type": "display_data"
    }
   ],
   "source": [
    "\n",
    "#a=np.zeros(30).reshape(3,10)\n",
    "#cv_error=[]\n",
    "#mse_error=[]\n",
    "#fold=[3,5,10]\n",
    "#degree1=[1,2,3,4,5,6,7,8,9,10]\n",
    "#for i, value in enumerate(fold):\n",
    "from sklearn.cross_validation import train_test_split, KFold\n",
    "from sklearn.preprocessing import PolynomialFeatures\n",
    "from sklearn.metrics import mean_squared_error\n",
    "autoDF =pd.read_csv(\"auto_mpg.csv\",encoding=\"ISO-8859-1\")\n",
    "autoDF.shape\n",
    "autoDF.columns\n",
    "autoDF1=autoDF[['mpg','cylinder','displacement','horsepower','weight','acceleration','year']]\n",
    "autoDF2 = autoDF1.apply(pd.to_numeric, errors='coerce')\n",
    "autoDF3=autoDF2.dropna()\n",
    "autoDF3.shape\n",
    "#X=autoDF3[['cylinder','displacement','horsepower','weight']]\n",
    "X=autoDF3[['horsepower']]\n",
    "y=autoDF3['mpg']\n",
    "\n",
    "# For degreee \n",
    "def computeCVError(X,y,folds):\n",
    "    deg=[]\n",
    "    mse=[]\n",
    "    degree1=[1,2,3,4,5,6,7,8,9,10]\n",
    "    for j in degree1: \n",
    "        kf = KFold(len(X),n_folds=folds)\n",
    "        for train_index, test_index in kf:\n",
    "            X_train, X_test = X.iloc[train_index], X.iloc[test_index]\n",
    "            y_train, y_test = y.iloc[train_index], y.iloc[test_index]  \n",
    "\n",
    "            poly = PolynomialFeatures(degree=j)             \n",
    "            X_train_poly = poly.fit_transform(X_train)\n",
    "            X_test_poly = poly.fit_transform(X_test)\n",
    "            linreg = LinearRegression().fit(X_train_poly, y_train)\n",
    "            y_pred = linreg.predict(X_test_poly)\n",
    "            test_mse = mean_squared_error(y_test, y_pred)\n",
    "            mse.append(test_mse)\n",
    "        mse1=np.mean(mse)/folds\n",
    "        deg.append(mse1)\n",
    "        \n",
    "    return(deg)\n",
    "\n",
    "df=pd.DataFrame()\n",
    "for folds in [5,7,10]:\n",
    "    cvError=computeCVError(X,y,folds)\n",
    "    print(cvError)\n",
    "    df1=pd.DataFrame(cvError)\n",
    "    df=pd.concat([df,df1],axis=1)\n",
    "    #print(cvError)\n",
    "    \n",
    "df.columns=['5-fold','7-fold','10-fold']\n",
    "df1=df.reindex([1,2,3,4,5,6,7,8,9,10])\n",
    "df1\n",
    "df1.plot()\n",
    "plt.show()"
   ]
  },
  {
   "cell_type": "code",
   "execution_count": 434,
   "metadata": {},
   "outputs": [
    {
     "data": {
      "text/html": [
       "<div>\n",
       "<style>\n",
       "    .dataframe thead tr:only-child th {\n",
       "        text-align: right;\n",
       "    }\n",
       "\n",
       "    .dataframe thead th {\n",
       "        text-align: left;\n",
       "    }\n",
       "\n",
       "    .dataframe tbody tr th {\n",
       "        vertical-align: top;\n",
       "    }\n",
       "</style>\n",
       "<table border=\"1\" class=\"dataframe\">\n",
       "  <thead>\n",
       "    <tr style=\"text-align: right;\">\n",
       "      <th></th>\n",
       "    </tr>\n",
       "  </thead>\n",
       "  <tbody>\n",
       "  </tbody>\n",
       "</table>\n",
       "</div>"
      ],
      "text/plain": [
       "Empty DataFrame\n",
       "Columns: []\n",
       "Index: []"
      ]
     },
     "execution_count": 434,
     "metadata": {},
     "output_type": "execute_result"
    }
   ],
   "source": [
    "df=pd.DataFrame()\n",
    "df"
   ]
  },
  {
   "cell_type": "code",
   "execution_count": 382,
   "metadata": {},
   "outputs": [
    {
     "data": {
      "text/plain": [
       "array([131, 132, 133, 134, 135, 136, 137, 138, 139, 140, 141, 142, 143,\n",
       "       144, 145, 146, 147, 148, 149, 150, 151, 152, 153, 154, 155, 156,\n",
       "       157, 158, 159, 160, 161, 162, 163, 164, 165, 166, 167, 168, 169,\n",
       "       170, 171, 172, 173, 174, 175, 176, 177, 178, 179, 180, 181, 182,\n",
       "       183, 184, 185, 186, 187, 188, 189, 190, 191, 192, 193, 194, 195,\n",
       "       196, 197, 198, 199, 200, 201, 202, 203, 204, 205, 206, 207, 208,\n",
       "       209, 210, 211, 212, 213, 214, 215, 216, 217, 218, 219, 220, 221,\n",
       "       222, 223, 224, 225, 226, 227, 228, 229, 230, 231, 232, 233, 234,\n",
       "       235, 236, 237, 238, 239, 240, 241, 242, 243, 244, 245, 246, 247,\n",
       "       248, 249, 250, 251, 252, 253, 254, 255, 256, 257, 258, 259, 260,\n",
       "       261, 262, 263, 264, 265, 266, 267, 268, 269, 270, 271, 272, 273,\n",
       "       274, 275, 276, 277, 278, 279, 280, 281, 282, 283, 284, 285, 286,\n",
       "       287, 288, 289, 290, 291, 292, 293, 294, 295, 296, 297, 298, 299,\n",
       "       300, 301, 302, 303, 304, 305, 306, 307, 308, 309, 310, 311, 312,\n",
       "       313, 314, 315, 316, 317, 318, 319, 320, 321, 322, 323, 324, 325,\n",
       "       326, 327, 328, 329, 330, 331, 332, 333, 334, 335, 336, 337, 338,\n",
       "       339, 340, 341, 342, 343, 344, 345, 346, 347, 348, 349, 350, 351,\n",
       "       352, 353, 354, 355, 356, 357, 358, 359, 360, 361, 362, 363, 364,\n",
       "       365, 366, 367, 368, 369, 370, 371, 372, 373, 374, 375, 376, 377,\n",
       "       378, 379, 380, 381, 382, 383, 384, 385, 386, 387, 388, 389, 390, 391])"
      ]
     },
     "execution_count": 382,
     "metadata": {},
     "output_type": "execute_result"
    }
   ],
   "source": [
    "from sklearn.cross_validation import train_test_split, KFold\n",
    "from sklearn.preprocessing import PolynomialFeatures\n",
    "from sklearn.metrics import mean_squared_error\n",
    "autoDF =pd.read_csv(\"auto_mpg.csv\",encoding=\"ISO-8859-1\")\n",
    "autoDF.shape\n",
    "autoDF.columns\n",
    "autoDF1=autoDF[['mpg','cylinder','displacement','horsepower','weight','acceleration','year']]\n",
    "autoDF2 = autoDF1.apply(pd.to_numeric, errors='coerce')\n",
    "autoDF3=autoDF2.dropna()\n",
    "autoDF3.shape\n",
    "#X=autoDF3[['cylinder','displacement','horsepower','weight']]\n",
    "X=autoDF3[['horsepower']]\n",
    "y=autoDF3['mpg']\n",
    "train_index"
   ]
  },
  {
   "cell_type": "code",
   "execution_count": 377,
   "metadata": {},
   "outputs": [
    {
     "data": {
      "text/plain": [
       "(261, 1)"
      ]
     },
     "execution_count": 377,
     "metadata": {},
     "output_type": "execute_result"
    }
   ],
   "source": [
    "X_train\n",
    "poly = PolynomialFeatures(degree=2)\n",
    "X_train.shape\n",
    "\n",
    "#X_poly = poly.fit_transform(X_train)\n",
    "X_train.shape"
   ]
  },
  {
   "cell_type": "code",
   "execution_count": 343,
   "metadata": {
    "collapsed": true
   },
   "outputs": [],
   "source": [
    "X = np.arange(6).reshape(6, 1)\n",
    "X1=pd.DataFrame(X)\n",
    "poly = PolynomialFeatures(degree=2)\n",
    "X_poly = poly.fit_transform(X1)"
   ]
  },
  {
   "cell_type": "code",
   "execution_count": 347,
   "metadata": {},
   "outputs": [
    {
     "data": {
      "text/plain": [
       "(261, 1)"
      ]
     },
     "execution_count": 347,
     "metadata": {},
     "output_type": "execute_result"
    }
   ],
   "source": [
    "X_train.shape"
   ]
  },
  {
   "cell_type": "code",
   "execution_count": 406,
   "metadata": {},
   "outputs": [
    {
     "data": {
      "text/plain": [
       "Int64Index([  0,   1,   2,   3,   4,   5,   6,   7,   8,   9,\n",
       "            ...\n",
       "            388, 389, 390, 391, 392, 393, 394, 395, 396, 397],\n",
       "           dtype='int64', length=392)"
      ]
     },
     "execution_count": 406,
     "metadata": {},
     "output_type": "execute_result"
    }
   ],
   "source": [
    "\n",
    "y.index"
   ]
  },
  {
   "cell_type": "code",
   "execution_count": 395,
   "metadata": {},
   "outputs": [
    {
     "data": {
      "text/plain": [
       "array([[199],\n",
       "       [205],\n",
       "       [223],\n",
       "       [243]], dtype=int64)"
      ]
     },
     "execution_count": 395,
     "metadata": {},
     "output_type": "execute_result"
    }
   ],
   "source": [
    "np.argwhere(np.isnan(y_train))"
   ]
  }
 ],
 "metadata": {
  "kernelspec": {
   "display_name": "Python 2",
   "language": "python",
   "name": "python2"
  },
  "language_info": {
   "codemirror_mode": {
    "name": "ipython",
    "version": 2
   },
   "file_extension": ".py",
   "mimetype": "text/x-python",
   "name": "python",
   "nbconvert_exporter": "python",
   "pygments_lexer": "ipython2",
   "version": "2.7.13"
  }
 },
 "nbformat": 4,
 "nbformat_minor": 2
}
